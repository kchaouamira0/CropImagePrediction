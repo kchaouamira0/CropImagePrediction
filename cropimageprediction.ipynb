{
 "cells": [
  {
   "cell_type": "code",
   "execution_count": null,
   "id": "dc58d734",
   "metadata": {
    "_cell_guid": "b1076dfc-b9ad-4769-8c92-a6c4dae69d19",
    "_uuid": "8f2839f25d086af736a60e9eeb907d3b93b6e0e5",
    "papermill": {
     "duration": 0.011556,
     "end_time": "2023-12-26T02:09:00.495816",
     "exception": false,
     "start_time": "2023-12-26T02:09:00.484260",
     "status": "completed"
    },
    "tags": []
   },
   "outputs": [],
   "source": []
  },
  {
   "cell_type": "code",
   "execution_count": 1,
   "id": "22d44a1b",
   "metadata": {
    "execution": {
     "iopub.execute_input": "2023-12-26T02:09:00.518346Z",
     "iopub.status.busy": "2023-12-26T02:09:00.517721Z",
     "iopub.status.idle": "2023-12-26T02:09:14.928071Z",
     "shell.execute_reply": "2023-12-26T02:09:14.926914Z"
    },
    "papermill": {
     "duration": 14.424304,
     "end_time": "2023-12-26T02:09:14.930601",
     "exception": false,
     "start_time": "2023-12-26T02:09:00.506297",
     "status": "completed"
    },
    "tags": []
   },
   "outputs": [],
   "source": [
    "# Importation des bibliothèques nécessaires\n",
    "import pandas as pd            # Pandas pour la manipulation de données en tableau\n",
    "import numpy as np             # NumPy pour les opérations numériques\n",
    "import seaborn as sns          # Seaborn pour la visualisation de données\n",
    "import PIL                     # PIL  pour le traitement d'images\n",
    "import warnings                # Bibliothèque pour gérer les avertissements\n",
    "\n",
    "from sklearn.model_selection import train_test_split  # Scikit-learn pour la division des données\n",
    "from keras.utils import to_categorical                # Keras pour la conversion des étiquettes en catégories\n",
    "from keras.models import Sequential                  # Keras pour la création de modèles séquentiels\n",
    "from keras.layers import Dense, Dropout, Flatten, Conv2D, MaxPool2D  # Keras pour les différentes couches du réseau de neurones\n",
    "from keras.optimizers import RMSprop                # Keras pour l'optimiseur RMSprop\n",
    "from PIL import Image        # PIL pour le traitement d'images\n",
    "import matplotlib.pyplot as plt\n",
    "\n",
    "\n",
    "# Filtrer les avertissements pour une présentation plus propre\n",
    "warnings.filterwarnings('ignore')\n"
   ]
  },
  {
   "cell_type": "markdown",
   "id": "58e7cd61",
   "metadata": {
    "papermill": {
     "duration": 0.009573,
     "end_time": "2023-12-26T02:09:14.950045",
     "exception": false,
     "start_time": "2023-12-26T02:09:14.940472",
     "status": "completed"
    },
    "tags": []
   },
   "source": [
    "**Import data ******"
   ]
  },
  {
   "cell_type": "code",
   "execution_count": 2,
   "id": "0cf088bc",
   "metadata": {
    "execution": {
     "iopub.execute_input": "2023-12-26T02:09:14.972152Z",
     "iopub.status.busy": "2023-12-26T02:09:14.971416Z",
     "iopub.status.idle": "2023-12-26T02:09:15.000776Z",
     "shell.execute_reply": "2023-12-26T02:09:14.999116Z"
    },
    "papermill": {
     "duration": 0.043296,
     "end_time": "2023-12-26T02:09:15.003222",
     "exception": false,
     "start_time": "2023-12-26T02:09:14.959926",
     "status": "completed"
    },
    "tags": []
   },
   "outputs": [],
   "source": [
    "# Obtention de nos dataframes à partir des fichiers CSV\n",
    "\n",
    "train=pd.read_csv('/kaggle/input/agriculture-crop-images/Crop_details.csv')\n",
    "test=pd.read_csv('/kaggle/input/testssss/testdata.csv')"
   ]
  },
  {
   "cell_type": "code",
   "execution_count": 3,
   "id": "990f2dbf",
   "metadata": {
    "execution": {
     "iopub.execute_input": "2023-12-26T02:09:15.025155Z",
     "iopub.status.busy": "2023-12-26T02:09:15.024592Z",
     "iopub.status.idle": "2023-12-26T02:09:15.049608Z",
     "shell.execute_reply": "2023-12-26T02:09:15.048099Z"
    },
    "papermill": {
     "duration": 0.038923,
     "end_time": "2023-12-26T02:09:15.052000",
     "exception": false,
     "start_time": "2023-12-26T02:09:15.013077",
     "status": "completed"
    },
    "tags": []
   },
   "outputs": [],
   "source": [
    "# Obtention de nos variables X_train et y_train à partir des données d'entraînement\n",
    "Y_train = train['croplabel']                  # Extraction des étiquettes (y_train)\n",
    "X_train = train.drop(labels=['croplabel'], axis=1)  # Extraction des caractéristiques (X_train)\n",
    "\n"
   ]
  },
  {
   "cell_type": "markdown",
   "id": "8a69cbf8",
   "metadata": {
    "papermill": {
     "duration": 0.009535,
     "end_time": "2023-12-26T02:09:15.071939",
     "exception": false,
     "start_time": "2023-12-26T02:09:15.062404",
     "status": "completed"
    },
    "tags": []
   },
   "source": [
    "**Data Visualization**"
   ]
  },
  {
   "cell_type": "code",
   "execution_count": 4,
   "id": "8a852734",
   "metadata": {
    "execution": {
     "iopub.execute_input": "2023-12-26T02:09:15.093916Z",
     "iopub.status.busy": "2023-12-26T02:09:15.093505Z",
     "iopub.status.idle": "2023-12-26T02:09:15.104966Z",
     "shell.execute_reply": "2023-12-26T02:09:15.103687Z"
    },
    "papermill": {
     "duration": 0.025813,
     "end_time": "2023-12-26T02:09:15.107452",
     "exception": false,
     "start_time": "2023-12-26T02:09:15.081639",
     "status": "completed"
    },
    "tags": []
   },
   "outputs": [
    {
     "name": "stdout",
     "output_type": "stream",
     "text": [
      "Types de cultures existants :\n",
      "['sugarcane', 'wheat', 'jute', 'maize', 'rice']\n"
     ]
    }
   ],
   "source": [
    "\n",
    "# Affichage des valeurs uniques dans la colonne 'crop' sous forme de liste\n",
    "crop_values = train['crop'].unique()\n",
    "print(\"Types de cultures existants :\")\n",
    "print(list(crop_values))\n",
    "\n",
    "\n",
    "\n"
   ]
  },
  {
   "cell_type": "code",
   "execution_count": 5,
   "id": "3daca3fb",
   "metadata": {
    "execution": {
     "iopub.execute_input": "2023-12-26T02:09:15.130581Z",
     "iopub.status.busy": "2023-12-26T02:09:15.129493Z",
     "iopub.status.idle": "2023-12-26T02:09:15.135789Z",
     "shell.execute_reply": "2023-12-26T02:09:15.133956Z"
    },
    "papermill": {
     "duration": 0.019938,
     "end_time": "2023-12-26T02:09:15.137991",
     "exception": false,
     "start_time": "2023-12-26T02:09:15.118053",
     "status": "completed"
    },
    "tags": []
   },
   "outputs": [
    {
     "name": "stdout",
     "output_type": "stream",
     "text": [
      "Index(['Unnamed: 0', 'path', 'crop', 'croplabel'], dtype='object')\n"
     ]
    }
   ],
   "source": [
    "print(train.columns)\n",
    "\n"
   ]
  },
  {
   "cell_type": "code",
   "execution_count": 6,
   "id": "bc08d554",
   "metadata": {
    "execution": {
     "iopub.execute_input": "2023-12-26T02:09:15.160245Z",
     "iopub.status.busy": "2023-12-26T02:09:15.158994Z",
     "iopub.status.idle": "2023-12-26T02:09:15.399304Z",
     "shell.execute_reply": "2023-12-26T02:09:15.398300Z"
    },
    "papermill": {
     "duration": 0.25315,
     "end_time": "2023-12-26T02:09:15.401146",
     "exception": false,
     "start_time": "2023-12-26T02:09:15.147996",
     "status": "completed"
    },
    "tags": []
   },
   "outputs": [
    {
     "data": {
      "text/plain": [
       "croplabel\n",
       "4    203\n",
       "3    199\n",
       "0    199\n",
       "1    199\n",
       "2    199\n",
       "Name: count, dtype: int64"
      ]
     },
     "execution_count": 6,
     "metadata": {},
     "output_type": "execute_result"
    },
    {
     "data": {
      "image/png": "[encoded data removed]",
      "text/plain": [
       "<Figure size 640x480 with 1 Axes>"
      ]
     },
     "metadata": {},
     "output_type": "display_data"
    }
   ],
   "source": [
    "# Séparation de la variable cible (croplabel) et des caractéristiques\n",
    "Y_train = train['croplabel']\n",
    "X_train = train.drop(labels=['croplabel'], axis=1)\n",
    "\n",
    "# Visualisation de la distribution des classes dans la variable cible\n",
    "g = sns.countplot(x=Y_train)\n",
    "Y_train.value_counts()\n",
    "\n"
   ]
  },
  {
   "cell_type": "code",
   "execution_count": 7,
   "id": "6d43b2fd",
   "metadata": {
    "execution": {
     "iopub.execute_input": "2023-12-26T02:09:15.424424Z",
     "iopub.status.busy": "2023-12-26T02:09:15.424067Z",
     "iopub.status.idle": "2023-12-26T02:09:15.430513Z",
     "shell.execute_reply": "2023-12-26T02:09:15.429135Z"
    },
    "papermill": {
     "duration": 0.02053,
     "end_time": "2023-12-26T02:09:15.432352",
     "exception": false,
     "start_time": "2023-12-26T02:09:15.411822",
     "status": "completed"
    },
    "tags": []
   },
   "outputs": [
    {
     "data": {
      "text/plain": [
       "999"
      ]
     },
     "execution_count": 7,
     "metadata": {},
     "output_type": "execute_result"
    }
   ],
   "source": [
    "len(train)\n",
    "\n",
    "\n"
   ]
  },
  {
   "cell_type": "markdown",
   "id": "d41e3e42",
   "metadata": {
    "papermill": {
     "duration": 0.009963,
     "end_time": "2023-12-26T02:09:15.453310",
     "exception": false,
     "start_time": "2023-12-26T02:09:15.443347",
     "status": "completed"
    },
    "tags": []
   },
   "source": [
    "**Null values**"
   ]
  },
  {
   "cell_type": "code",
   "execution_count": 8,
   "id": "d93ab7a9",
   "metadata": {
    "execution": {
     "iopub.execute_input": "2023-12-26T02:09:15.542136Z",
     "iopub.status.busy": "2023-12-26T02:09:15.541767Z",
     "iopub.status.idle": "2023-12-26T02:09:15.550336Z",
     "shell.execute_reply": "2023-12-26T02:09:15.549093Z"
    },
    "papermill": {
     "duration": 0.088229,
     "end_time": "2023-12-26T02:09:15.552313",
     "exception": false,
     "start_time": "2023-12-26T02:09:15.464084",
     "status": "completed"
    },
    "tags": []
   },
   "outputs": [
    {
     "name": "stdout",
     "output_type": "stream",
     "text": [
      "Valeurs nulles dans X_train :\n",
      "Unnamed: 0    False\n",
      "path          False\n",
      "crop          False\n",
      "dtype: bool\n",
      "\n",
      "Valeurs nulles dans Y_train :\n",
      "False\n"
     ]
    }
   ],
   "source": [
    "# Vérification des valeurs nulles dans X_train\n",
    "print(\"Valeurs nulles dans X_train :\")\n",
    "print(X_train.isnull().any())\n",
    "\n",
    "# Vérification des valeurs nulles dans Y_train\n",
    "print(\"\\nValeurs nulles dans Y_train :\")\n",
    "print(Y_train.isnull().any())\n",
    "\n"
   ]
  },
  {
   "cell_type": "markdown",
   "id": "0e3136b5",
   "metadata": {
    "papermill": {
     "duration": 0.0107,
     "end_time": "2023-12-26T02:09:15.573948",
     "exception": false,
     "start_time": "2023-12-26T02:09:15.563248",
     "status": "completed"
    },
    "tags": []
   },
   "source": [
    "**Split train dataset ******"
   ]
  },
  {
   "cell_type": "code",
   "execution_count": 9,
   "id": "0d8e7e77",
   "metadata": {
    "execution": {
     "iopub.execute_input": "2023-12-26T02:09:15.596858Z",
     "iopub.status.busy": "2023-12-26T02:09:15.596251Z",
     "iopub.status.idle": "2023-12-26T02:09:15.603078Z",
     "shell.execute_reply": "2023-12-26T02:09:15.602439Z"
    },
    "papermill": {
     "duration": 0.020641,
     "end_time": "2023-12-26T02:09:15.605029",
     "exception": false,
     "start_time": "2023-12-26T02:09:15.584388",
     "status": "completed"
    },
    "tags": []
   },
   "outputs": [
    {
     "name": "stdout",
     "output_type": "stream",
     "text": [
      "Dimensions de l'ensemble d'entraînement : (799, 3)\n",
      "Dimensions de l'ensemble de validation : (200, 3)\n"
     ]
    }
   ],
   "source": [
    "from sklearn.model_selection import train_test_split\n",
    "\n",
    "# Diviser l'ensemble d'entraînement en ensembles d'entraînement et de validation\n",
    "X_train, X_validation, Y_train, Y_validation = train_test_split(X_train, Y_train, test_size=0.2, random_state=42)\n",
    "\n",
    "# Afficher les dimensions des ensembles résultants\n",
    "print(\"Dimensions de l'ensemble d'entraînement :\", X_train.shape)\n",
    "print(\"Dimensions de l'ensemble de validation :\", X_validation.shape)\n"
   ]
  },
  {
   "cell_type": "code",
   "execution_count": 10,
   "id": "b1d1a136",
   "metadata": {
    "execution": {
     "iopub.execute_input": "2023-12-26T02:09:15.629820Z",
     "iopub.status.busy": "2023-12-26T02:09:15.629361Z",
     "iopub.status.idle": "2023-12-26T02:09:15.636924Z",
     "shell.execute_reply": "2023-12-26T02:09:15.635557Z"
    },
    "papermill": {
     "duration": 0.022575,
     "end_time": "2023-12-26T02:09:15.639265",
     "exception": false,
     "start_time": "2023-12-26T02:09:15.616690",
     "status": "completed"
    },
    "tags": []
   },
   "outputs": [],
   "source": [
    "# Suppression des colonnes non nécessaires dans X_train\n",
    "X_train = X_train.drop(columns=['crop', 'Unnamed: 0'])\n"
   ]
  },
  {
   "cell_type": "code",
   "execution_count": 11,
   "id": "1974ba4a",
   "metadata": {
    "execution": {
     "iopub.execute_input": "2023-12-26T02:09:15.662493Z",
     "iopub.status.busy": "2023-12-26T02:09:15.661971Z",
     "iopub.status.idle": "2023-12-26T02:09:15.667089Z",
     "shell.execute_reply": "2023-12-26T02:09:15.666100Z"
    },
    "papermill": {
     "duration": 0.019216,
     "end_time": "2023-12-26T02:09:15.669451",
     "exception": false,
     "start_time": "2023-12-26T02:09:15.650235",
     "status": "completed"
    },
    "tags": []
   },
   "outputs": [],
   "source": [
    "# Suppression des colonnes non nécessaires dans X_validation\n",
    "X_validation = X_validation.drop(columns=['crop', 'Unnamed: 0'])\n"
   ]
  },
  {
   "cell_type": "markdown",
   "id": "fe895417",
   "metadata": {
    "papermill": {
     "duration": 0.010472,
     "end_time": "2023-12-26T02:09:15.690861",
     "exception": false,
     "start_time": "2023-12-26T02:09:15.680389",
     "status": "completed"
    },
    "tags": []
   },
   "source": [
    "**Image Processing**"
   ]
  },
  {
   "cell_type": "code",
   "execution_count": 12,
   "id": "53f5b9dc",
   "metadata": {
    "execution": {
     "iopub.execute_input": "2023-12-26T02:09:15.713879Z",
     "iopub.status.busy": "2023-12-26T02:09:15.713529Z",
     "iopub.status.idle": "2023-12-26T02:09:15.721190Z",
     "shell.execute_reply": "2023-12-26T02:09:15.719238Z"
    },
    "papermill": {
     "duration": 0.022231,
     "end_time": "2023-12-26T02:09:15.723791",
     "exception": false,
     "start_time": "2023-12-26T02:09:15.701560",
     "status": "completed"
    },
    "tags": []
   },
   "outputs": [],
   "source": [
    "\n",
    "# Définition de la fonction pour extraire les données RGB d'une image de culture et les remodeler en 28x28x3\n",
    "def path_to_RGB(path: str):\n",
    "    # Remplacement de la partie '/input' du chemin par '/input/agriculture-crop-images'\n",
    "    path = path.replace('/input', '/input/agriculture-crop-images')\n",
    "    \n",
    "    # Ouverture de l'image à partir du chemin spécifié\n",
    "    img = Image.open(path)\n",
    "    \n",
    "    # Redimensionnement de l'image à la taille souhaitée (28x28)\n",
    "    img = img.resize((28, 28))\n",
    "    \n",
    "    # Conversion de l'image en tableau NumPy\n",
    "    img_arr = np.array(img)\n",
    "    \n",
    "    # Remodelage du tableau pour avoir les dimensions 28x28x3\n",
    "    img_arr = img_arr.reshape(28, 28, 3)\n",
    "    \n",
    "    return img_arr\n",
    "\n",
    "# Définition de la fonction pour extraire les données RGB d'une image de test et les remodeler en 28x28x3\n",
    "def path_to_RGB_test(path: str):\n",
    "    # Ouverture de l'image à partir du chemin spécifié\n",
    "    img = Image.open(path)\n",
    "    \n",
    "    # Redimensionnement de l'image à la taille souhaitée (28x28)\n",
    "    img = img.resize((28, 28))\n",
    "    \n",
    "    # Conversion de l'image en tableau NumPy\n",
    "    img_arr = np.array(img)\n",
    "    \n",
    "    # Remodelage du tableau pour avoir les dimensions 28x28x3\n",
    "    img_arr = img_arr.reshape(28, 28, 3)\n",
    "    \n",
    "    return img_arr\n"
   ]
  },
  {
   "cell_type": "markdown",
   "id": "aca5dc91",
   "metadata": {
    "papermill": {
     "duration": 0.01039,
     "end_time": "2023-12-26T02:09:15.744984",
     "exception": false,
     "start_time": "2023-12-26T02:09:15.734594",
     "status": "completed"
    },
    "tags": []
   },
   "source": [
    "**Normalization**"
   ]
  },
  {
   "cell_type": "code",
   "execution_count": 13,
   "id": "c1fc8c39",
   "metadata": {
    "execution": {
     "iopub.execute_input": "2023-12-26T02:09:15.769389Z",
     "iopub.status.busy": "2023-12-26T02:09:15.768995Z",
     "iopub.status.idle": "2023-12-26T02:09:25.022918Z",
     "shell.execute_reply": "2023-12-26T02:09:25.020858Z"
    },
    "papermill": {
     "duration": 9.268515,
     "end_time": "2023-12-26T02:09:25.025465",
     "exception": false,
     "start_time": "2023-12-26T02:09:15.756950",
     "status": "completed"
    },
    "tags": []
   },
   "outputs": [],
   "source": [
    "# Appel des fonctions de traitement d'image sur les chemins des images dans X_train\n",
    "X_train['path'] = X_train['path'].apply(path_to_RGB)\n",
    "\n",
    "# Normalisation des valeurs des pixels en divisant par 255\n",
    "X_train['path'] = X_train['path'] / 255\n",
    "\n",
    "# Appel des fonctions de traitement d'image sur les chemins des images dans X_validation\n",
    "X_validation['path'] = X_validation['path'].apply(path_to_RGB)\n",
    "\n",
    "# Normalisation des valeurs des pixels en divisant par 255\n",
    "X_validation['path'] = X_validation['path'] / 255\n",
    "\n",
    "# Appel des fonctions de traitement d'image sur les chemins des images dans test\n",
    "test['testpath'] = test['testpath'].apply(path_to_RGB_test)\n",
    "\n",
    "# Normalisation des valeurs des pixels en divisant par 255\n",
    "test['testpath'] = test['testpath'] / 255\n"
   ]
  },
  {
   "cell_type": "markdown",
   "id": "accee92f",
   "metadata": {
    "papermill": {
     "duration": 0.011293,
     "end_time": "2023-12-26T02:09:25.049417",
     "exception": false,
     "start_time": "2023-12-26T02:09:25.038124",
     "status": "completed"
    },
    "tags": []
   },
   "source": [
    "**Image Data Shape Inspection**"
   ]
  },
  {
   "cell_type": "code",
   "execution_count": 14,
   "id": "3b3d8ef5",
   "metadata": {
    "execution": {
     "iopub.execute_input": "2023-12-26T02:09:25.072464Z",
     "iopub.status.busy": "2023-12-26T02:09:25.072128Z",
     "iopub.status.idle": "2023-12-26T02:09:25.080509Z",
     "shell.execute_reply": "2023-12-26T02:09:25.079353Z"
    },
    "papermill": {
     "duration": 0.022723,
     "end_time": "2023-12-26T02:09:25.082813",
     "exception": false,
     "start_time": "2023-12-26T02:09:25.060090",
     "status": "completed"
    },
    "tags": []
   },
   "outputs": [
    {
     "data": {
      "text/plain": [
       "(799,)"
      ]
     },
     "execution_count": 14,
     "metadata": {},
     "output_type": "execute_result"
    }
   ],
   "source": [
    "# Obtenir shape de la colonne 'path' dans X_train\n",
    "X_train['path'].shape\n"
   ]
  },
  {
   "cell_type": "code",
   "execution_count": 15,
   "id": "b4612ba0",
   "metadata": {
    "execution": {
     "iopub.execute_input": "2023-12-26T02:09:25.106484Z",
     "iopub.status.busy": "2023-12-26T02:09:25.106096Z",
     "iopub.status.idle": "2023-12-26T02:09:25.112648Z",
     "shell.execute_reply": "2023-12-26T02:09:25.111927Z"
    },
    "papermill": {
     "duration": 0.021206,
     "end_time": "2023-12-26T02:09:25.114812",
     "exception": false,
     "start_time": "2023-12-26T02:09:25.093606",
     "status": "completed"
    },
    "tags": []
   },
   "outputs": [
    {
     "data": {
      "text/plain": [
       "(200,)"
      ]
     },
     "execution_count": 15,
     "metadata": {},
     "output_type": "execute_result"
    }
   ],
   "source": [
    "# Obtenir shape de la colonne 'path' dans X_validation\n",
    "X_validation['path'].shape"
   ]
  },
  {
   "cell_type": "markdown",
   "id": "0bf8e2c2",
   "metadata": {
    "papermill": {
     "duration": 0.010718,
     "end_time": "2023-12-26T02:09:25.136822",
     "exception": false,
     "start_time": "2023-12-26T02:09:25.126104",
     "status": "completed"
    },
    "tags": []
   },
   "source": [
    "**Flatten Image Data**"
   ]
  },
  {
   "cell_type": "code",
   "execution_count": 16,
   "id": "5e53a580",
   "metadata": {
    "execution": {
     "iopub.execute_input": "2023-12-26T02:09:25.161479Z",
     "iopub.status.busy": "2023-12-26T02:09:25.160176Z",
     "iopub.status.idle": "2023-12-26T02:09:25.171206Z",
     "shell.execute_reply": "2023-12-26T02:09:25.170491Z"
    },
    "papermill": {
     "duration": 0.025437,
     "end_time": "2023-12-26T02:09:25.173455",
     "exception": false,
     "start_time": "2023-12-26T02:09:25.148018",
     "status": "completed"
    },
    "tags": []
   },
   "outputs": [],
   "source": [
    "\n",
    "# Flatten Image Data for Training Set\n",
    "X_train_flattened = np.array(X_train['path'].tolist()).reshape(-1, 28*28*3)\n",
    "\n",
    "# Flatten Image Data for Validation Set\n",
    "X_validation_flattened = np.array(X_validation['path'].tolist()).reshape(-1, 28*28*3)\n"
   ]
  },
  {
   "cell_type": "markdown",
   "id": "1887f2b6",
   "metadata": {
    "papermill": {
     "duration": 0.010827,
     "end_time": "2023-12-26T02:09:25.196206",
     "exception": false,
     "start_time": "2023-12-26T02:09:25.185379",
     "status": "completed"
    },
    "tags": []
   },
   "source": [
    "**Data Preparation**"
   ]
  },
  {
   "cell_type": "code",
   "execution_count": 17,
   "id": "198f16e1",
   "metadata": {
    "execution": {
     "iopub.execute_input": "2023-12-26T02:09:25.220685Z",
     "iopub.status.busy": "2023-12-26T02:09:25.219028Z",
     "iopub.status.idle": "2023-12-26T02:09:25.224412Z",
     "shell.execute_reply": "2023-12-26T02:09:25.223805Z"
    },
    "papermill": {
     "duration": 0.019687,
     "end_time": "2023-12-26T02:09:25.226702",
     "exception": false,
     "start_time": "2023-12-26T02:09:25.207015",
     "status": "completed"
    },
    "tags": []
   },
   "outputs": [],
   "source": [
    "# Redimensionnement des données d'image pour l'ensemble d'entraînement\n",
    "X_train_resized = np.asarray(X_train_flattened).reshape(-1, 28, 28, 3)\n",
    "\n",
    "# Encodage one-hot des étiquettes pour l'ensemble d'entraînement\n",
    "Y_train_encoded = Y_train\n",
    "Y_train_encoded = to_categorical(Y_train_encoded, num_classes=5)\n"
   ]
  },
  {
   "cell_type": "code",
   "execution_count": 18,
   "id": "bf687823",
   "metadata": {
    "execution": {
     "iopub.execute_input": "2023-12-26T02:09:25.250381Z",
     "iopub.status.busy": "2023-12-26T02:09:25.249920Z",
     "iopub.status.idle": "2023-12-26T02:09:25.255292Z",
     "shell.execute_reply": "2023-12-26T02:09:25.254336Z"
    },
    "papermill": {
     "duration": 0.019608,
     "end_time": "2023-12-26T02:09:25.257332",
     "exception": false,
     "start_time": "2023-12-26T02:09:25.237724",
     "status": "completed"
    },
    "tags": []
   },
   "outputs": [],
   "source": [
    "# Redimensionnement des données d'image pour l'ensemble de validation\n",
    "X_validation_resized = np.asarray(X_validation_flattened).reshape(-1, 28, 28, 3)\n",
    "\n",
    "# Encodage one-hot des étiquettes pour l'ensemble de validation\n",
    "Y_validation_encoded = Y_validation\n",
    "Y_validation_encoded = to_categorical(Y_validation_encoded, num_classes=5)\n"
   ]
  },
  {
   "cell_type": "markdown",
   "id": "6fd8814f",
   "metadata": {
    "papermill": {
     "duration": 0.010365,
     "end_time": "2023-12-26T02:09:25.278948",
     "exception": false,
     "start_time": "2023-12-26T02:09:25.268583",
     "status": "completed"
    },
    "tags": []
   },
   "source": [
    "**Building Model CNN**"
   ]
  },
  {
   "cell_type": "code",
   "execution_count": 19,
   "id": "6f69cb66",
   "metadata": {
    "execution": {
     "iopub.execute_input": "2023-12-26T02:09:25.302362Z",
     "iopub.status.busy": "2023-12-26T02:09:25.301983Z",
     "iopub.status.idle": "2023-12-26T02:09:25.564599Z",
     "shell.execute_reply": "2023-12-26T02:09:25.563879Z"
    },
    "papermill": {
     "duration": 0.27699,
     "end_time": "2023-12-26T02:09:25.566758",
     "exception": false,
     "start_time": "2023-12-26T02:09:25.289768",
     "status": "completed"
    },
    "tags": []
   },
   "outputs": [],
   "source": [
    "# Définition du modèle CNN\n",
    "model = Sequential()\n",
    "\n",
    "# Première couche de convolution avec activation ReLU et entrée de forme (28, 28, 3)\n",
    "model.add(Conv2D(filters=32, kernel_size=(5, 5), padding='Same', activation='relu', input_shape=(28, 28, 3)))\n",
    "\n",
    "# Deuxième couche de convolution avec activation ReLU\n",
    "model.add(Conv2D(filters=32, kernel_size=(5, 5), padding='Same', activation='relu'))\n",
    "\n",
    "# Couche de max pooling\n",
    "model.add(MaxPool2D(pool_size=(2, 2)))\n",
    "\n",
    "# Couche de dropout pour la régularisation\n",
    "model.add(Dropout(0.25))\n",
    "\n",
    "# Troisième couche de convolution avec activation ReLU\n",
    "model.add(Conv2D(filters=64, kernel_size=(3, 3), padding='Same', activation='relu'))\n",
    "\n",
    "# Quatrième couche de convolution avec activation ReLU\n",
    "model.add(Conv2D(filters=64, kernel_size=(3, 3), padding='Same', activation='relu'))\n",
    "\n",
    "# Deuxième couche de max pooling\n",
    "model.add(MaxPool2D(pool_size=(2, 2), strides=(2, 2)))\n",
    "\n",
    "# Deuxième couche de dropout\n",
    "model.add(Dropout(0.25))\n",
    "\n",
    "# Aplatir les données pour les passer à travers des couches entièrement connectées\n",
    "model.add(Flatten())\n",
    "\n",
    "# Première couche dense avec activation ReLU\n",
    "model.add(Dense(256, activation=\"relu\"))\n",
    "\n",
    "# Troisième couche de dropout\n",
    "model.add(Dropout(0.5))\n",
    "\n",
    "# Couche de sortie avec activation softmax pour la classification\n",
    "model.add(Dense(5, activation=\"softmax\"))\n"
   ]
  },
  {
   "cell_type": "code",
   "execution_count": 20,
   "id": "f13e314e",
   "metadata": {
    "execution": {
     "iopub.execute_input": "2023-12-26T02:09:25.590526Z",
     "iopub.status.busy": "2023-12-26T02:09:25.590195Z",
     "iopub.status.idle": "2023-12-26T02:09:25.645065Z",
     "shell.execute_reply": "2023-12-26T02:09:25.642993Z"
    },
    "papermill": {
     "duration": 0.070935,
     "end_time": "2023-12-26T02:09:25.648575",
     "exception": false,
     "start_time": "2023-12-26T02:09:25.577640",
     "status": "completed"
    },
    "tags": []
   },
   "outputs": [
    {
     "name": "stdout",
     "output_type": "stream",
     "text": [
      "Model: \"sequential\"\n",
      "_________________________________________________________________\n",
      " Layer (type)                Output Shape              Param #   \n",
      "=================================================================\n",
      " conv2d (Conv2D)             (None, 28, 28, 32)        2432      \n",
      "                                                                 \n",
      " conv2d_1 (Conv2D)           (None, 28, 28, 32)        25632     \n",
      "                                                                 \n",
      " max_pooling2d (MaxPooling2  (None, 14, 14, 32)        0         \n",
      " D)                                                              \n",
      "                                                                 \n",
      " dropout (Dropout)           (None, 14, 14, 32)        0         \n",
      "                                                                 \n",
      " conv2d_2 (Conv2D)           (None, 14, 14, 64)        18496     \n",
      "                                                                 \n",
      " conv2d_3 (Conv2D)           (None, 14, 14, 64)        36928     \n",
      "                                                                 \n",
      " max_pooling2d_1 (MaxPoolin  (None, 7, 7, 64)          0         \n",
      " g2D)                                                            \n",
      "                                                                 \n",
      " dropout_1 (Dropout)         (None, 7, 7, 64)          0         \n",
      "                                                                 \n",
      " flatten (Flatten)           (None, 3136)              0         \n",
      "                                                                 \n",
      " dense (Dense)               (None, 256)               803072    \n",
      "                                                                 \n",
      " dropout_2 (Dropout)         (None, 256)               0         \n",
      "                                                                 \n",
      " dense_1 (Dense)             (None, 5)                 1285      \n",
      "                                                                 \n",
      "=================================================================\n",
      "Total params: 887845 (3.39 MB)\n",
      "Trainable params: 887845 (3.39 MB)\n",
      "Non-trainable params: 0 (0.00 Byte)\n",
      "_________________________________________________________________\n"
     ]
    }
   ],
   "source": [
    "model.summary()\n"
   ]
  },
  {
   "cell_type": "markdown",
   "id": "5b31bf5f",
   "metadata": {
    "papermill": {
     "duration": 0.014702,
     "end_time": "2023-12-26T02:09:25.677374",
     "exception": false,
     "start_time": "2023-12-26T02:09:25.662672",
     "status": "completed"
    },
    "tags": []
   },
   "source": [
    "**Set the optimizer and compile model**"
   ]
  },
  {
   "cell_type": "code",
   "execution_count": 21,
   "id": "c5b33a12",
   "metadata": {
    "execution": {
     "iopub.execute_input": "2023-12-26T02:09:25.707821Z",
     "iopub.status.busy": "2023-12-26T02:09:25.707346Z",
     "iopub.status.idle": "2023-12-26T02:09:25.726523Z",
     "shell.execute_reply": "2023-12-26T02:09:25.725360Z"
    },
    "papermill": {
     "duration": 0.037177,
     "end_time": "2023-12-26T02:09:25.729208",
     "exception": false,
     "start_time": "2023-12-26T02:09:25.692031",
     "status": "completed"
    },
    "tags": []
   },
   "outputs": [],
   "source": [
    "# Définition de l'optimiseur RMSprop avec certains paramètres\n",
    "optimizer = RMSprop(learning_rate=0.001, rho=0.9, epsilon=1e-08)\n",
    "#un taux d'apprentissage de 0.001, un coefficient de décroissance exponentielle (rho) de 0.9, et une petite valeur epsilon pour la stabilité numérique.\n",
    "\n",
    "# Compilation du modèle en spécifiant l'optimiseur, la fonction de perte et les métriques\n",
    "model.compile(optimizer=optimizer, loss=\"categorical_crossentropy\", metrics=[\"accuracy\"])\n",
    "\n",
    "\n"
   ]
  },
  {
   "cell_type": "markdown",
   "id": "c578ac1f",
   "metadata": {
    "papermill": {
     "duration": 0.014174,
     "end_time": "2023-12-26T02:09:25.757246",
     "exception": false,
     "start_time": "2023-12-26T02:09:25.743072",
     "status": "completed"
    },
    "tags": []
   },
   "source": [
    "**Model Training and Validation**"
   ]
  },
  {
   "cell_type": "code",
   "execution_count": 22,
   "id": "08486105",
   "metadata": {
    "execution": {
     "iopub.execute_input": "2023-12-26T02:09:25.785255Z",
     "iopub.status.busy": "2023-12-26T02:09:25.784916Z",
     "iopub.status.idle": "2023-12-26T02:10:48.728963Z",
     "shell.execute_reply": "2023-12-26T02:10:48.727451Z"
    },
    "papermill": {
     "duration": 82.960921,
     "end_time": "2023-12-26T02:10:48.731392",
     "exception": false,
     "start_time": "2023-12-26T02:09:25.770471",
     "status": "completed"
    },
    "tags": []
   },
   "outputs": [
    {
     "name": "stdout",
     "output_type": "stream",
     "text": [
      "Epoch 1/30\n",
      "25/25 [==============================] - 4s 102ms/step - loss: 1.6346 - accuracy: 0.2403 - val_loss: 1.6049 - val_accuracy: 0.3100\n",
      "Epoch 2/30\n",
      "25/25 [==============================] - 2s 91ms/step - loss: 1.5794 - accuracy: 0.2628 - val_loss: 1.4983 - val_accuracy: 0.4100\n",
      "Epoch 3/30\n",
      "25/25 [==============================] - 2s 88ms/step - loss: 1.5111 - accuracy: 0.3730 - val_loss: 1.4802 - val_accuracy: 0.3450\n",
      "Epoch 4/30\n",
      "25/25 [==============================] - 2s 87ms/step - loss: 1.4234 - accuracy: 0.4093 - val_loss: 1.3428 - val_accuracy: 0.4550\n",
      "Epoch 5/30\n",
      "25/25 [==============================] - 2s 88ms/step - loss: 1.3021 - accuracy: 0.4768 - val_loss: 1.1858 - val_accuracy: 0.5600\n",
      "Epoch 6/30\n",
      "25/25 [==============================] - 2s 82ms/step - loss: 1.2849 - accuracy: 0.4819 - val_loss: 1.1433 - val_accuracy: 0.5650\n",
      "Epoch 7/30\n",
      "25/25 [==============================] - 2s 84ms/step - loss: 1.1422 - accuracy: 0.5432 - val_loss: 1.2325 - val_accuracy: 0.5200\n",
      "Epoch 8/30\n",
      "25/25 [==============================] - 2s 82ms/step - loss: 1.1185 - accuracy: 0.5469 - val_loss: 1.0232 - val_accuracy: 0.6500\n",
      "Epoch 9/30\n",
      "25/25 [==============================] - 2s 83ms/step - loss: 0.9941 - accuracy: 0.6008 - val_loss: 0.9099 - val_accuracy: 0.6350\n",
      "Epoch 10/30\n",
      "25/25 [==============================] - 2s 83ms/step - loss: 0.9095 - accuracy: 0.6496 - val_loss: 0.8908 - val_accuracy: 0.6600\n",
      "Epoch 11/30\n",
      "25/25 [==============================] - 2s 83ms/step - loss: 0.8711 - accuracy: 0.6771 - val_loss: 0.8610 - val_accuracy: 0.7050\n",
      "Epoch 12/30\n",
      "25/25 [==============================] - 2s 85ms/step - loss: 0.7219 - accuracy: 0.7359 - val_loss: 0.7623 - val_accuracy: 0.7450\n",
      "Epoch 13/30\n",
      "25/25 [==============================] - 2s 85ms/step - loss: 0.6858 - accuracy: 0.7434 - val_loss: 0.8350 - val_accuracy: 0.7450\n",
      "Epoch 14/30\n",
      "25/25 [==============================] - 2s 82ms/step - loss: 0.6486 - accuracy: 0.7597 - val_loss: 0.6196 - val_accuracy: 0.8200\n",
      "Epoch 15/30\n",
      "25/25 [==============================] - 2s 87ms/step - loss: 0.5990 - accuracy: 0.7760 - val_loss: 0.5365 - val_accuracy: 0.8500\n",
      "Epoch 16/30\n",
      "25/25 [==============================] - 2s 91ms/step - loss: 0.5079 - accuracy: 0.8185 - val_loss: 0.4908 - val_accuracy: 0.8750\n",
      "Epoch 17/30\n",
      "25/25 [==============================] - 2s 89ms/step - loss: 0.4567 - accuracy: 0.8360 - val_loss: 0.5686 - val_accuracy: 0.8350\n",
      "Epoch 18/30\n",
      "25/25 [==============================] - 2s 86ms/step - loss: 0.3940 - accuracy: 0.8623 - val_loss: 0.3658 - val_accuracy: 0.8750\n",
      "Epoch 19/30\n",
      "25/25 [==============================] - 2s 87ms/step - loss: 0.3133 - accuracy: 0.8924 - val_loss: 0.6277 - val_accuracy: 0.8450\n",
      "Epoch 20/30\n",
      "25/25 [==============================] - 2s 85ms/step - loss: 0.3570 - accuracy: 0.8786 - val_loss: 0.3487 - val_accuracy: 0.9000\n",
      "Epoch 21/30\n",
      "25/25 [==============================] - 2s 84ms/step - loss: 0.4486 - accuracy: 0.8798 - val_loss: 0.3855 - val_accuracy: 0.8900\n",
      "Epoch 22/30\n",
      "25/25 [==============================] - 2s 83ms/step - loss: 0.2669 - accuracy: 0.9186 - val_loss: 0.4017 - val_accuracy: 0.8800\n",
      "Epoch 23/30\n",
      "25/25 [==============================] - 2s 84ms/step - loss: 0.3157 - accuracy: 0.8936 - val_loss: 0.2782 - val_accuracy: 0.9550\n",
      "Epoch 24/30\n",
      "25/25 [==============================] - 2s 84ms/step - loss: 0.2037 - accuracy: 0.9337 - val_loss: 0.9173 - val_accuracy: 0.7700\n",
      "Epoch 25/30\n",
      "25/25 [==============================] - 2s 86ms/step - loss: 0.2226 - accuracy: 0.9224 - val_loss: 0.3576 - val_accuracy: 0.9200\n",
      "Epoch 26/30\n",
      "25/25 [==============================] - 2s 85ms/step - loss: 0.2146 - accuracy: 0.9412 - val_loss: 0.3761 - val_accuracy: 0.9300\n",
      "Epoch 27/30\n",
      "25/25 [==============================] - 2s 84ms/step - loss: 0.3036 - accuracy: 0.9212 - val_loss: 0.7600 - val_accuracy: 0.8100\n",
      "Epoch 28/30\n",
      "25/25 [==============================] - 2s 83ms/step - loss: 0.1756 - accuracy: 0.9462 - val_loss: 0.2761 - val_accuracy: 0.9400\n",
      "Epoch 29/30\n",
      "25/25 [==============================] - 2s 84ms/step - loss: 0.1460 - accuracy: 0.9549 - val_loss: 0.3072 - val_accuracy: 0.9400\n",
      "Epoch 30/30\n",
      "25/25 [==============================] - 2s 83ms/step - loss: 0.2178 - accuracy: 0.9312 - val_loss: 0.2997 - val_accuracy: 0.9300\n"
     ]
    }
   ],
   "source": [
    "# Entraînement du modèle avec les données d'entraînement et de validation\n",
    "history = model.fit(\n",
    "    X_train_resized, Y_train_encoded,  # Données d'entraînement et étiquettes\n",
    "    epochs=30,                         # Nombre d'époques d'entraînement\n",
    "    batch_size=32,                     # Taille du lot d'entraînement\n",
    "    validation_data=(X_validation_resized, Y_validation_encoded)  # Données de validation\n",
    ")\n"
   ]
  },
  {
   "cell_type": "markdown",
   "id": "3be8797b",
   "metadata": {
    "papermill": {
     "duration": 0.06485,
     "end_time": "2023-12-26T02:10:48.856580",
     "exception": false,
     "start_time": "2023-12-26T02:10:48.791730",
     "status": "completed"
    },
    "tags": []
   },
   "source": [
    "**loss, accuracy**"
   ]
  },
  {
   "cell_type": "code",
   "execution_count": 23,
   "id": "448b0ad1",
   "metadata": {
    "execution": {
     "iopub.execute_input": "2023-12-26T02:10:48.981989Z",
     "iopub.status.busy": "2023-12-26T02:10:48.981686Z",
     "iopub.status.idle": "2023-12-26T02:10:48.987567Z",
     "shell.execute_reply": "2023-12-26T02:10:48.986031Z"
    },
    "papermill": {
     "duration": 0.070736,
     "end_time": "2023-12-26T02:10:48.989526",
     "exception": false,
     "start_time": "2023-12-26T02:10:48.918790",
     "status": "completed"
    },
    "tags": []
   },
   "outputs": [
    {
     "name": "stdout",
     "output_type": "stream",
     "text": [
      "{'verbose': 1, 'epochs': 30, 'steps': 25}\n"
     ]
    }
   ],
   "source": [
    "# Obtenir les paramètres d'entraînement du modèle à partir de l'objet history\n",
    "parametres_entrainement = history.params\n",
    "print(parametres_entrainement)\n",
    "\n"
   ]
  },
  {
   "cell_type": "code",
   "execution_count": 24,
   "id": "9ef63fa0",
   "metadata": {
    "execution": {
     "iopub.execute_input": "2023-12-26T02:10:49.115234Z",
     "iopub.status.busy": "2023-12-26T02:10:49.114045Z",
     "iopub.status.idle": "2023-12-26T02:10:49.120980Z",
     "shell.execute_reply": "2023-12-26T02:10:49.119773Z"
    },
    "papermill": {
     "duration": 0.072974,
     "end_time": "2023-12-26T02:10:49.123193",
     "exception": false,
     "start_time": "2023-12-26T02:10:49.050219",
     "status": "completed"
    },
    "tags": []
   },
   "outputs": [
    {
     "name": "stdout",
     "output_type": "stream",
     "text": [
      "dict_keys(['loss', 'accuracy', 'val_loss', 'val_accuracy'])\n"
     ]
    }
   ],
   "source": [
    "# Obtenir les clés disponibles dans l'historique de l'entraînement du modèle\n",
    "cles_historique = history.history.keys()\n",
    "print(cles_historique)\n"
   ]
  },
  {
   "cell_type": "code",
   "execution_count": 25,
   "id": "a1600c7d",
   "metadata": {
    "execution": {
     "iopub.execute_input": "2023-12-26T02:10:49.248870Z",
     "iopub.status.busy": "2023-12-26T02:10:49.248059Z",
     "iopub.status.idle": "2023-12-26T02:10:49.254932Z",
     "shell.execute_reply": "2023-12-26T02:10:49.253963Z"
    },
    "papermill": {
     "duration": 0.071143,
     "end_time": "2023-12-26T02:10:49.256820",
     "exception": false,
     "start_time": "2023-12-26T02:10:49.185677",
     "status": "completed"
    },
    "tags": []
   },
   "outputs": [
    {
     "data": {
      "text/plain": [
       "list"
      ]
     },
     "execution_count": 25,
     "metadata": {},
     "output_type": "execute_result"
    }
   ],
   "source": [
    "type(history.history['loss'])\n"
   ]
  },
  {
   "cell_type": "code",
   "execution_count": 26,
   "id": "f231f6a0",
   "metadata": {
    "execution": {
     "iopub.execute_input": "2023-12-26T02:10:49.381167Z",
     "iopub.status.busy": "2023-12-26T02:10:49.380848Z",
     "iopub.status.idle": "2023-12-26T02:10:49.387191Z",
     "shell.execute_reply": "2023-12-26T02:10:49.385892Z"
    },
    "papermill": {
     "duration": 0.070462,
     "end_time": "2023-12-26T02:10:49.389784",
     "exception": false,
     "start_time": "2023-12-26T02:10:49.319322",
     "status": "completed"
    },
    "tags": []
   },
   "outputs": [
    {
     "data": {
      "text/plain": [
       "30"
      ]
     },
     "execution_count": 26,
     "metadata": {},
     "output_type": "execute_result"
    }
   ],
   "source": [
    "len(history.history['loss'])\n"
   ]
  },
  {
   "cell_type": "code",
   "execution_count": 27,
   "id": "5d70c642",
   "metadata": {
    "execution": {
     "iopub.execute_input": "2023-12-26T02:10:49.516316Z",
     "iopub.status.busy": "2023-12-26T02:10:49.515813Z",
     "iopub.status.idle": "2023-12-26T02:10:49.523767Z",
     "shell.execute_reply": "2023-12-26T02:10:49.522173Z"
    },
    "papermill": {
     "duration": 0.075965,
     "end_time": "2023-12-26T02:10:49.525932",
     "exception": false,
     "start_time": "2023-12-26T02:10:49.449967",
     "status": "completed"
    },
    "tags": []
   },
   "outputs": [
    {
     "data": {
      "text/plain": [
       "[1.6346392631530762,\n",
       " 1.579392910003662,\n",
       " 1.5110914707183838,\n",
       " 1.4233733415603638,\n",
       " 1.302057147026062]"
      ]
     },
     "execution_count": 27,
     "metadata": {},
     "output_type": "execute_result"
    }
   ],
   "source": [
    "history.history['loss'][:5] # show loss for first 5 epochs\n"
   ]
  },
  {
   "cell_type": "code",
   "execution_count": 28,
   "id": "ab8e5959",
   "metadata": {
    "execution": {
     "iopub.execute_input": "2023-12-26T02:10:49.647870Z",
     "iopub.status.busy": "2023-12-26T02:10:49.647522Z",
     "iopub.status.idle": "2023-12-26T02:10:49.652601Z",
     "shell.execute_reply": "2023-12-26T02:10:49.651561Z"
    },
    "papermill": {
     "duration": 0.067585,
     "end_time": "2023-12-26T02:10:49.654286",
     "exception": false,
     "start_time": "2023-12-26T02:10:49.586701",
     "status": "completed"
    },
    "tags": []
   },
   "outputs": [],
   "source": [
    "acc = history.history['accuracy']\n",
    "val_acc = history.history['val_accuracy']\n",
    "\n",
    "loss = history.history['loss']\n",
    "val_loss = history.history['val_loss']"
   ]
  },
  {
   "cell_type": "code",
   "execution_count": 29,
   "id": "552880ac",
   "metadata": {
    "execution": {
     "iopub.execute_input": "2023-12-26T02:10:49.776381Z",
     "iopub.status.busy": "2023-12-26T02:10:49.776051Z",
     "iopub.status.idle": "2023-12-26T02:10:50.173065Z",
     "shell.execute_reply": "2023-12-26T02:10:50.171875Z"
    },
    "papermill": {
     "duration": 0.461701,
     "end_time": "2023-12-26T02:10:50.175222",
     "exception": false,
     "start_time": "2023-12-26T02:10:49.713521",
     "status": "completed"
    },
    "tags": []
   },
   "outputs": [
    {
     "data": {
      "image/png": "[encoded data removed]",
      "text/plain": [
       "<Figure size 800x800 with 2 Axes>"
      ]
     },
     "metadata": {},
     "output_type": "display_data"
    }
   ],
   "source": [
    "plt.figure(figsize=(8, 8))\n",
    "plt.subplot(1, 2, 1)\n",
    "plt.plot(range(30), acc, label='Training Accuracy')\n",
    "plt.plot(range(30), val_acc, label='Validation Accuracy')\n",
    "plt.legend(loc='lower right')\n",
    "plt.title('Training and Validation Accuracy')\n",
    "\n",
    "plt.subplot(1, 2, 2)\n",
    "plt.plot(range(30), loss, label='Training Loss')\n",
    "plt.plot(range(30), val_loss, label='Validation Loss')\n",
    "plt.legend(loc='upper right')\n",
    "plt.title('Training and Validation Loss')\n",
    "plt.show()"
   ]
  },
  {
   "cell_type": "code",
   "execution_count": 30,
   "id": "ff1033b1",
   "metadata": {
    "execution": {
     "iopub.execute_input": "2023-12-26T02:10:50.300930Z",
     "iopub.status.busy": "2023-12-26T02:10:50.300336Z",
     "iopub.status.idle": "2023-12-26T02:10:50.305255Z",
     "shell.execute_reply": "2023-12-26T02:10:50.303994Z"
    },
    "papermill": {
     "duration": 0.070033,
     "end_time": "2023-12-26T02:10:50.307528",
     "exception": false,
     "start_time": "2023-12-26T02:10:50.237495",
     "status": "completed"
    },
    "tags": []
   },
   "outputs": [],
   "source": [
    "#Getting the desired things from the dataframe\n",
    "X_test=test['testpath']\n",
    "Y_test=test['croplabel']"
   ]
  },
  {
   "cell_type": "code",
   "execution_count": 31,
   "id": "f3342357",
   "metadata": {
    "execution": {
     "iopub.execute_input": "2023-12-26T02:10:50.433266Z",
     "iopub.status.busy": "2023-12-26T02:10:50.432973Z",
     "iopub.status.idle": "2023-12-26T02:10:50.438099Z",
     "shell.execute_reply": "2023-12-26T02:10:50.437270Z"
    },
    "papermill": {
     "duration": 0.070009,
     "end_time": "2023-12-26T02:10:50.439930",
     "exception": false,
     "start_time": "2023-12-26T02:10:50.369921",
     "status": "completed"
    },
    "tags": []
   },
   "outputs": [
    {
     "data": {
      "text/plain": [
       "(51,)"
      ]
     },
     "execution_count": 31,
     "metadata": {},
     "output_type": "execute_result"
    }
   ],
   "source": [
    "X_test.shape\n"
   ]
  },
  {
   "cell_type": "code",
   "execution_count": 32,
   "id": "eaeb2ebc",
   "metadata": {
    "execution": {
     "iopub.execute_input": "2023-12-26T02:10:50.563217Z",
     "iopub.status.busy": "2023-12-26T02:10:50.562847Z",
     "iopub.status.idle": "2023-12-26T02:10:50.615176Z",
     "shell.execute_reply": "2023-12-26T02:10:50.613668Z"
    },
    "papermill": {
     "duration": 0.11768,
     "end_time": "2023-12-26T02:10:50.617803",
     "exception": false,
     "start_time": "2023-12-26T02:10:50.500123",
     "status": "completed"
    },
    "tags": []
   },
   "outputs": [],
   "source": [
    "#similar as done for the training data \n",
    "X_t=[]\n",
    "for x in X_test:\n",
    "    for j in x:\n",
    "        for i in j:\n",
    "            for a in i :\n",
    "                X_t.append(a)"
   ]
  },
  {
   "cell_type": "code",
   "execution_count": 33,
   "id": "df6d1f77",
   "metadata": {
    "execution": {
     "iopub.execute_input": "2023-12-26T02:10:50.743828Z",
     "iopub.status.busy": "2023-12-26T02:10:50.742510Z",
     "iopub.status.idle": "2023-12-26T02:10:50.755155Z",
     "shell.execute_reply": "2023-12-26T02:10:50.753778Z"
    },
    "papermill": {
     "duration": 0.077415,
     "end_time": "2023-12-26T02:10:50.758424",
     "exception": false,
     "start_time": "2023-12-26T02:10:50.681009",
     "status": "completed"
    },
    "tags": []
   },
   "outputs": [],
   "source": [
    "#resizing \n",
    "X_t=np.asarray(X_t).reshape(51,28,28,3)"
   ]
  },
  {
   "cell_type": "code",
   "execution_count": 34,
   "id": "069d6396",
   "metadata": {
    "execution": {
     "iopub.execute_input": "2023-12-26T02:10:50.883856Z",
     "iopub.status.busy": "2023-12-26T02:10:50.883502Z",
     "iopub.status.idle": "2023-12-26T02:10:50.887703Z",
     "shell.execute_reply": "2023-12-26T02:10:50.886725Z"
    },
    "papermill": {
     "duration": 0.070761,
     "end_time": "2023-12-26T02:10:50.890197",
     "exception": false,
     "start_time": "2023-12-26T02:10:50.819436",
     "status": "completed"
    },
    "tags": []
   },
   "outputs": [],
   "source": [
    "Y_test=to_categorical(Y_test,num_classes=5)\n"
   ]
  },
  {
   "cell_type": "markdown",
   "id": "10788af1",
   "metadata": {
    "papermill": {
     "duration": 0.060231,
     "end_time": "2023-12-26T02:10:51.010871",
     "exception": false,
     "start_time": "2023-12-26T02:10:50.950640",
     "status": "completed"
    },
    "tags": []
   },
   "source": [
    "**Evaluation**"
   ]
  },
  {
   "cell_type": "code",
   "execution_count": 35,
   "id": "abc16b8e",
   "metadata": {
    "execution": {
     "iopub.execute_input": "2023-12-26T02:10:51.140687Z",
     "iopub.status.busy": "2023-12-26T02:10:51.140041Z",
     "iopub.status.idle": "2023-12-26T02:10:51.244967Z",
     "shell.execute_reply": "2023-12-26T02:10:51.243760Z"
    },
    "papermill": {
     "duration": 0.173392,
     "end_time": "2023-12-26T02:10:51.247303",
     "exception": false,
     "start_time": "2023-12-26T02:10:51.073911",
     "status": "completed"
    },
    "tags": []
   },
   "outputs": [
    {
     "name": "stdout",
     "output_type": "stream",
     "text": [
      "2/2 [==============================] - 0s 16ms/step - loss: 3.1203 - accuracy: 0.5490\n"
     ]
    },
    {
     "data": {
      "text/plain": [
       "[3.1203176975250244, 0.5490196347236633]"
      ]
     },
     "execution_count": 35,
     "metadata": {},
     "output_type": "execute_result"
    }
   ],
   "source": [
    "#evaluating the model performance\n",
    "model.evaluate(X_t,Y_test)"
   ]
  },
  {
   "cell_type": "markdown",
   "id": "7af2a4ac",
   "metadata": {
    "papermill": {
     "duration": 0.060732,
     "end_time": "2023-12-26T02:10:51.369196",
     "exception": false,
     "start_time": "2023-12-26T02:10:51.308464",
     "status": "completed"
    },
    "tags": []
   },
   "source": [
    "**Prediction**"
   ]
  },
  {
   "cell_type": "code",
   "execution_count": 36,
   "id": "703b269c",
   "metadata": {
    "execution": {
     "iopub.execute_input": "2023-12-26T02:10:51.503899Z",
     "iopub.status.busy": "2023-12-26T02:10:51.503489Z",
     "iopub.status.idle": "2023-12-26T02:10:51.509434Z",
     "shell.execute_reply": "2023-12-26T02:10:51.507907Z"
    },
    "papermill": {
     "duration": 0.082004,
     "end_time": "2023-12-26T02:10:51.512189",
     "exception": false,
     "start_time": "2023-12-26T02:10:51.430185",
     "status": "completed"
    },
    "tags": []
   },
   "outputs": [
    {
     "name": "stdout",
     "output_type": "stream",
     "text": [
      "Nombre de classes dans le jeu de données de test : 5\n"
     ]
    }
   ],
   "source": [
    "# Supposons que votre jeu de données de test est stocké dans la variable 'test'\n",
    "nombre_classes_test = test['croplabel'].nunique()\n",
    "\n",
    "# Affichage du nombre de classes\n",
    "print(\"Nombre de classes dans le jeu de données de test :\", nombre_classes_test)\n"
   ]
  },
  {
   "cell_type": "markdown",
   "id": "ebbfa3d6",
   "metadata": {
    "papermill": {
     "duration": 0.062454,
     "end_time": "2023-12-26T02:10:51.637608",
     "exception": false,
     "start_time": "2023-12-26T02:10:51.575154",
     "status": "completed"
    },
    "tags": []
   },
   "source": [
    "**Prediction**"
   ]
  },
  {
   "cell_type": "code",
   "execution_count": 37,
   "id": "87628eb5",
   "metadata": {
    "execution": {
     "iopub.execute_input": "2023-12-26T02:10:51.767611Z",
     "iopub.status.busy": "2023-12-26T02:10:51.766997Z",
     "iopub.status.idle": "2023-12-26T02:10:52.680275Z",
     "shell.execute_reply": "2023-12-26T02:10:52.679326Z"
    },
    "papermill": {
     "duration": 0.979893,
     "end_time": "2023-12-26T02:10:52.682391",
     "exception": false,
     "start_time": "2023-12-26T02:10:51.702498",
     "status": "completed"
    },
    "tags": []
   },
   "outputs": [
    {
     "name": "stdout",
     "output_type": "stream",
     "text": [
      "1/1 [==============================] - 0s 122ms/step\n"
     ]
    },
    {
     "data": {
      "image/png": "[encoded data removed]",
      "text/plain": [
       "<Figure size 1500x800 with 14 Axes>"
      ]
     },
     "metadata": {},
     "output_type": "display_data"
    }
   ],
   "source": [
    "# Supposons que vous avez un dictionnaire de correspondance comme celui-ci\n",
    "mapping_crops = {\n",
    "    0: 'jute',\n",
    "    1: 'maize',\n",
    "    2: 'rice',\n",
    "    3: 'sugarcane',\n",
    "    4: 'wheat'\n",
    "}\n",
    "\n",
    "import random\n",
    "\n",
    "# Sélectionner un nombre aléatoire d'images pour la prédiction\n",
    "nombre_images_a_predire = 7  # Vous pouvez ajuster ce nombre selon vos besoins\n",
    "indices_images = random.sample(range(len(X_t)), nombre_images_a_predire)\n",
    "\n",
    "# Prédire les classes pour les images sélectionnées\n",
    "predictions = model.predict(X_t[indices_images])\n",
    "\n",
    "# Convertir les prédictions en classes prédites\n",
    "classes_predites = np.argmax(predictions, axis=1)\n",
    "\n",
    "# Afficher les images avec les cultures correctes et prédites\n",
    "plt.figure(figsize=(15, 8))\n",
    "plt.subplots_adjust(wspace=0.5)  # Réglage de l'espacement horizontal entre les sous-graphiques\n",
    "\n",
    "for i, idx in enumerate(indices_images):\n",
    "    # Image réelle\n",
    "    plt.subplot(2, nombre_images_a_predire, i + 1)\n",
    "    plt.imshow(X_t[idx])\n",
    "    vraie_culture = mapping_crops[int(Y_test[idx][0])]  # Convertir Y_test[idx] en entier\n",
    "    plt.title(f'Actual : {vraie_culture}')\n",
    "    plt.axis('off')\n",
    "\n",
    "    # Image prédite\n",
    "    plt.subplot(2, nombre_images_a_predire, i + nombre_images_a_predire + 1)\n",
    "    plt.imshow(X_t[idx])\n",
    "    culture_predite = mapping_crops[classes_predites[i]]\n",
    "    plt.title(f' Predicted: {culture_predite}')\n",
    "    plt.axis('off')\n",
    "\n",
    "    # Comparer les classes réelles avec les classes prédites\n",
    "    if int(Y_test[idx][0]) == classes_predites[i]:\n",
    "        plt.text(0.5, -0.1, 'Oui', ha='center', va='center', transform=plt.gca().transAxes, color='green')\n",
    "    else:\n",
    "        plt.text(0.5, -0.1, 'Non', ha='center', va='center', transform=plt.gca().transAxes, color='red')\n",
    "\n",
    "plt.show()\n",
    "\n"
   ]
  },
  {
   "cell_type": "code",
   "execution_count": null,
   "id": "a98b4931",
   "metadata": {
    "papermill": {
     "duration": 0.064063,
     "end_time": "2023-12-26T02:10:52.812700",
     "exception": false,
     "start_time": "2023-12-26T02:10:52.748637",
     "status": "completed"
    },
    "tags": []
   },
   "outputs": [],
   "source": []
  }
 ],
 "metadata": {
  "kaggle": {
   "accelerator": "none",
   "dataSources": [
    {
     "datasetId": 792084,
     "sourceId": 1489479,
     "sourceType": "datasetVersion"
    },
    {
     "datasetId": 775339,
     "sourceId": 2011301,
     "sourceType": "datasetVersion"
    }
   ],
   "dockerImageVersionId": 30626,
   "isGpuEnabled": false,
   "isInternetEnabled": false,
   "language": "python",
   "sourceType": "notebook"
  },
  "kernelspec": {
   "display_name": "Python 3",
   "language": "python",
   "name": "python3"
  },
  "language_info": {
   "codemirror_mode": {
    "name": "ipython",
    "version": 3
   },
   "file_extension": ".py",
   "mimetype": "text/x-python",
   "name": "python",
   "nbconvert_exporter": "python",
   "pygments_lexer": "ipython3",
   "version": "3.10.12"
  },
  "papermill": {
   "default_parameters": {},
   "duration": 116.76703,
   "end_time": "2023-12-26T02:10:54.603213",
   "environment_variables": {},
   "exception": null,
   "input_path": "__notebook__.ipynb",
   "output_path": "__notebook__.ipynb",
   "parameters": {},
   "start_time": "2023-12-26T02:08:57.836183",
   "version": "2.4.0"
  }
 },
 "nbformat": 4,
 "nbformat_minor": 5
}
